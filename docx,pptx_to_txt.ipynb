{
 "cells": [
  {
   "cell_type": "code",
   "execution_count": 2,
   "id": "d777876c",
   "metadata": {},
   "outputs": [],
   "source": [
    "##code for converting docx,ppt to txt file.\n",
    "\n",
    "import os\n",
    "import uuid\n",
    "import textract\n",
    "\n",
    "# source_directory = 'E:/PPT/docx/'\n",
    "source_directory = os.path.join('E:/PPT/new/')\n",
    "\n",
    "for filename in os.listdir(source_directory):\n",
    "    file, extension = os.path.splitext(filename)\n",
    "    unique_filename = str(uuid.uuid4()) + extension\n",
    "#     os.rename(os.path.join(source_directory,  filename), os.path.join(source_directory, unique_filename))\n",
    "\n",
    "# training_directory = 'E:/PPT/docx/'\n",
    "training_directory = os.path.join('E:/PPT/new/')\n",
    "\n",
    "for process_file in  os.listdir(source_directory):\n",
    "    file, extension = os.path.splitext(process_file)\n",
    "    \n",
    "    # We create a new text file name by concatenating the .txt extension to file UUID\n",
    "    dest_file_path = file + '.txt'\n",
    "    \n",
    "    #extract text from the file\n",
    "    content = textract.process(os.path.join(source_directory, process_file))\n",
    "    \n",
    "    # We create and open the new and we prepare to write the Binary Data which is represented by the wb - Write Binary\n",
    "    write_text_file = open(os.path.join(training_directory, dest_file_path), \"wb\")\n",
    "    \n",
    "    #write the content and close the newly created file\n",
    "    write_text_file.write(content)\n",
    "    write_text_file.close()"
   ]
  },
  {
   "cell_type": "code",
   "execution_count": 1,
   "id": "e1e6d986",
   "metadata": {},
   "outputs": [],
   "source": [
    "##code for pptx to txt\n",
    "\n",
    "from pptx import Presentation\n",
    "import glob\n",
    "import os\n",
    "\n",
    "source_folder=r'E:/PPT/new'\n",
    "for filename in os.listdir(source_folder):\n",
    "    if filename[-4:] == 'pptx':\n",
    "        \n",
    "        file1 = open(source_folder+filename[:-5]+\".txt\", \"w\")\n",
    "        L = []\n",
    "\n",
    "        for eachfile in glob.glob(source_folder+filename):\n",
    "            prs = Presentation(eachfile)\n",
    "            for slide in prs.slides:\n",
    "                for shape in slide.shapes:\n",
    "                    if hasattr(shape, \"text\"):\n",
    "                        L.append(shape.text)\n",
    "        file1.writelines(L)\n",
    "        file1.close()  "
   ]
  },
  {
   "cell_type": "code",
   "execution_count": null,
   "id": "8c8023e1",
   "metadata": {},
   "outputs": [],
   "source": [
    "## code for docx to txt\n",
    "import os\n",
    "name = os.listdir('E:/PPT/docx/')\n",
    "\n",
    "import docx2txt\n",
    "\n",
    "for i in name:\n",
    "    # Passing docx file to process function\n",
    "    text = docx2txt.process('E:/PPT/docx/%s'%i)\n",
    "\n",
    "    # Saving content inside docx file into output.txt file\n",
    "    with open('E:/PPT/docx/%s.txt'%i, \"w\") as text_file:\n",
    "        print(text, file=text_file)"
   ]
  }
 ],
 "metadata": {
  "kernelspec": {
   "display_name": "Python 3",
   "language": "python",
   "name": "python3"
  },
  "language_info": {
   "codemirror_mode": {
    "name": "ipython",
    "version": 3
   },
   "file_extension": ".py",
   "mimetype": "text/x-python",
   "name": "python",
   "nbconvert_exporter": "python",
   "pygments_lexer": "ipython3",
   "version": "3.6.13"
  }
 },
 "nbformat": 4,
 "nbformat_minor": 5
}
